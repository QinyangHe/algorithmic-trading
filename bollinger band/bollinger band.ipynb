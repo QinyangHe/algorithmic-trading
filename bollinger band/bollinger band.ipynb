{
 "cells": [
  {
   "cell_type": "markdown",
   "metadata": {},
   "source": [
    "We have implemented a mean-reverting strategy where the number of units we invest in a stationary porfolio is proportional to the deviation of the market value of the unit porfolio from a moving average. It is good because it's parameterless without data-snooping error. However, the strategy is not practical in real-time trading as we will never know beforehand what the maximum capital deployed will be, as there is no limit to the temporary deviation of price from its mean. Therefore, for practical trading, we can use the Bollinger band, where we enter into a position only when the price deviates by more than specified standard deviations from the mean, and exit when price mean-reverts to some standard deviation from the mean.\n",
    "That is how E.P Chan explains the difference between practical trading and accounts for why we use Bollinger band, in my opnion, the difference is that:\n",
    "1. Even if we used statistical test to confirm the conintegrity of the assets, however, we cannot guarantee this property remains in the future.\n",
    "2. For in-sample backtest, lookback is computed by a global optimal parameter, the coefficient of linear regression. But we cannot get it for the period we are trading in.\n",
    "\n",
    "Also about why we use Bollinger band: I think this serves as a \"margin of safety\". Because of all the uncertain elements in real-time trading we have compared to a backtest. We will not enter every little bit of deviation, as it might be lookback-biased. So we only trade when the deviation is significant enough so that even if we misestimate the true mean, we are not losing."
   ]
  },
  {
   "cell_type": "code",
   "execution_count": 61,
   "metadata": {},
   "outputs": [],
   "source": [
    "import matplotlib.pyplot as plt\n",
    "import numpy as np\n",
    "import pandas as pd\n",
    "\n",
    "%matplotlib inline\n",
    "#get all the data needed\n",
    "ETF_df = pd.read_csv(\"GLD_USO.csv\", header=None, names=['GLD', 'USO'])\n",
    "GLD = ETF_df[['GLD']]\n",
    "USO = ETF_df[['USO']]"
   ]
  },
  {
   "cell_type": "code",
   "execution_count": 62,
   "metadata": {},
   "outputs": [],
   "source": [
    "from sklearn.linear_model import LinearRegression\n",
    "lookback = 20 # we pick a arbitrarily short lookback period\n",
    "hedgeRatio = np.zeros(shape=(GLD.shape[0],1))\n",
    "# use a dynamically changing hedge ratio based on past period\n",
    "for t in range(lookback-1, GLD.shape[0]):\n",
    "    linearModel = LinearRegression()\n",
    "    linearModel.fit(GLD[t+1-lookback:t+1], USO[t+1-lookback:t+1])\n",
    "    hedgeRatio[t] = linearModel.coef_[0,0]"
   ]
  },
  {
   "cell_type": "code",
   "execution_count": 63,
   "metadata": {},
   "outputs": [],
   "source": [
    "y2 = np.concatenate((GLD.values,USO.values),axis=1)\n",
    "hedgeRatio = -hedgeRatio\n",
    "hedgeRatio = np.concatenate((hedgeRatio, np.ones((y2.shape[0],1))),axis=1) # construct matrix of coefficients for both prices\n",
    "yport = np.sum(np.multiply(y2, hedgeRatio), axis=1)\n",
    "#delete data for first lookback period as we don't have transaction during this time\n",
    "hedgeRatio = hedgeRatio[lookback:]\n",
    "yport = yport[lookback:]\n",
    "y2 = y2[lookback:]"
   ]
  },
  {
   "cell_type": "markdown",
   "metadata": {},
   "source": [
    "The entry z score for a given period in fact can be optimized in training set, so is the length of lookback period. Here, for simplicity, we just assume it is 1, and exit z score is 0 (when the price reverts to mean). About the detail of implementation, we set the number of units of the unit porfolio to be on if we have a long singal on that day, set it to zero when there is a exit singal, and vice versa for the number of units in short side. For those days we have none of the singals, we carry on the previous day's position."
   ]
  },
  {
   "cell_type": "code",
   "execution_count": 86,
   "metadata": {},
   "outputs": [],
   "source": [
    "entryZscore = 1\n",
    "exitZscore = 0\n",
    "\n",
    "MA = pd.DataFrame(yport).rolling(lookback).mean()\n",
    "MSTD = pd.DataFrame(yport).rolling(lookback).std()\n",
    "zScore = (yport.reshape(yport.shape[0],1)-MA)/MSTD\n",
    "\n",
    "\n",
    "longsEntry = zScore < -entryZscore\n",
    "longsExit = zScore > -exitZscore\n",
    "\n",
    "shortsEntry = zScore > entryZscore\n",
    "shortsExit = zScore < exitZscore\n",
    "\n",
    "numUnitsLong = np.full((yport.shape[0], 1), np.nan)\n",
    "numUnitsShort = np.full((yport.shape[0], 1), np.nan)\n",
    "\n",
    "#mark long singals\n",
    "numUnitsLong[0] = 0\n",
    "numUnitsLong[longsEntry] = 1\n",
    "numUnitsLong[longsExit] = 0\n",
    "numUnitsLongDF = pd.DataFrame(numUnitsLong)\n",
    "numUnitsLongDF.fillna(method='ffill', inplace=True) #fill days with previous position when there are none of singals\n",
    "numUnitsLong = numUnitsLongDF.values\n",
    "#mark short singals\n",
    "numUnitsShort[0] = 0\n",
    "numUnitsShort[shortsEntry] = -1\n",
    "numUnitsShort[shortsExit] = 0\n",
    "numUnitsShortDF = pd.DataFrame(numUnitsShort)\n",
    "numUnitsShortDF.fillna(method=\"ffill\", inplace=True) #fill days with previous position when there are none of singals\n",
    "numUnitsShort = numUnitsShortDF.values"
   ]
  },
  {
   "cell_type": "code",
   "execution_count": 87,
   "metadata": {},
   "outputs": [
    {
     "name": "stderr",
     "output_type": "stream",
     "text": [
      "C:\\Users\\a9039\\Anaconda3\\lib\\site-packages\\ipykernel_launcher.py:6: RuntimeWarning: invalid value encountered in true_divide\n",
      "  \n"
     ]
    },
    {
     "data": {
      "image/png": "[encoded data removed]",
      "text/plain": [
       "<Figure size 480x320 with 1 Axes>"
      ]
     },
     "metadata": {},
     "output_type": "display_data"
    },
    {
     "name": "stdout",
     "output_type": "stream",
     "text": [
      "APR= 0.17824927743129648 \n",
      "Sharpe Ratio= 0.964998956288064\n"
     ]
    }
   ],
   "source": [
    "numUnits = numUnitsLong + numUnitsShort\n",
    "positions = np.repeat(numUnits, y2.shape[1], axis=1)*hedgeRatio*y2 # positions is the dollar capital allocation in each ETF\n",
    "laggedPosition = pd.DataFrame(positions).shift().values\n",
    "laggedy2 = pd.DataFrame(y2).shift().values\n",
    "pnl = np.sum(laggedPosition*(y2-laggedy2)/laggedy2, axis=1) #(y2-laggedy2)/laggedy2 is daily return rate\n",
    "ret = pnl / np.sum(abs(laggedPosition), axis=1)\n",
    "ret[np.isnan(ret)] = 0\n",
    "cumProfit = np.cumprod(1+ret)-1 #calculate cumulative profit\n",
    "fig=plt.figure(figsize=(6, 4), dpi= 80, facecolor='w', edgecolor='k') #plot the result\n",
    "plt.plot(cumProfit)\n",
    "plt.show()\n",
    "APR = np.power(np.prod(1+ret),252/ret.size)-1\n",
    "SharpeRatio = np.sqrt(252)*np.mean(ret)/np.std(ret)\n",
    "print(\"APR=\",APR,\"\\nSharpe Ratio=\",SharpeRatio)"
   ]
  },
  {
   "cell_type": "markdown",
   "metadata": {},
   "source": [
    "Some notes:\n",
    "1. We do not really need to wait until the price reverts to the mean, but we can set any exit point lower than entry point. An advantage of being that flexible is that even if the price is not actually mean-reverting, we can still profit from it by constantly realizing small profits.\n",
    "2. Using multiple entries and exits will never be optimal. We can always find a single entry/exit level that generates a higher average return in backtest."
   ]
  },
  {
   "cell_type": "code",
   "execution_count": null,
   "metadata": {},
   "outputs": [],
   "source": []
  }
 ],
 "metadata": {
  "kernelspec": {
   "display_name": "Python 3",
   "language": "python",
   "name": "python3"
  },
  "language_info": {
   "codemirror_mode": {
    "name": "ipython",
    "version": 3
   },
   "file_extension": ".py",
   "mimetype": "text/x-python",
   "name": "python",
   "nbconvert_exporter": "python",
   "pygments_lexer": "ipython3",
   "version": "3.7.4"
  },
  "varInspector": {
   "cols": {
    "lenName": 16,
    "lenType": 16,
    "lenVar": 40
   },
   "kernels_config": {
    "python": {
     "delete_cmd_postfix": "",
     "delete_cmd_prefix": "del ",
     "library": "var_list.py",
     "varRefreshCmd": "print(var_dic_list())"
    },
    "r": {
     "delete_cmd_postfix": ") ",
     "delete_cmd_prefix": "rm(",
     "library": "var_list.r",
     "varRefreshCmd": "cat(var_dic_list()) "
    }
   },
   "types_to_exclude": [
    "module",
    "function",
    "builtin_function_or_method",
    "instance",
    "_Feature"
   ],
   "window_display": false
  }
 },
 "nbformat": 4,
 "nbformat_minor": 2
}
